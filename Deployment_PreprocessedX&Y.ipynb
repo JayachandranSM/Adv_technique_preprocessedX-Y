{
 "cells": [
  {
   "cell_type": "code",
   "execution_count": 1,
   "id": "e0a49051-7d95-4a81-b904-b20eb775c6f2",
   "metadata": {},
   "outputs": [],
   "source": [
    "import pandas as pd"
   ]
  },
  {
   "cell_type": "code",
   "execution_count": 2,
   "id": "99b16dce-0779-46b9-bb11-3d19537c77e0",
   "metadata": {},
   "outputs": [],
   "source": [
    "dataset = pd.read_csv(\"insurance_pre.csv\")"
   ]
  },
  {
   "cell_type": "code",
   "execution_count": 3,
   "id": "8126cc89-17bc-4624-9046-7deb051dc2fd",
   "metadata": {},
   "outputs": [],
   "source": [
    "dataset = pd.get_dummies(dataset,dtype=int,drop_first=True)"
   ]
  },
  {
   "cell_type": "code",
   "execution_count": 4,
   "id": "04609a50-2a5a-49d0-a6bc-43da92aff583",
   "metadata": {},
   "outputs": [],
   "source": [
    "Independent = dataset[['age', 'bmi', 'children', 'sex_male', 'smoker_yes']]\n",
    "dependent = dataset[['charges']]"
   ]
  },
  {
   "cell_type": "code",
   "execution_count": 5,
   "id": "0f3ea2d6-b632-4ba8-90de-bef23f8fbb43",
   "metadata": {},
   "outputs": [],
   "source": [
    "from sklearn.model_selection import train_test_split\n",
    "x_train,x_test,y_train,y_test = train_test_split(Independent,dependent,test_size=0.30,random_state=0)"
   ]
  },
  {
   "cell_type": "code",
   "execution_count": 7,
   "id": "b097fa8e-1ef0-40d7-bfc3-a6913ef8926f",
   "metadata": {},
   "outputs": [],
   "source": [
    "from sklearn.preprocessing import StandardScaler\n",
    "SCX = StandardScaler()\n",
    "x_train = SCX.fit_transform(x_train)\n",
    "x_test = SCX.transform(x_test)"
   ]
  },
  {
   "cell_type": "code",
   "execution_count": 8,
   "id": "5212732f-19ac-494f-8a03-2cc6f6c1bcaa",
   "metadata": {},
   "outputs": [],
   "source": [
    "SCY = StandardScaler()\n",
    "y_train = SCY.fit_transform(y_train)\n",
    "y_test = SCY.transform(y_test)"
   ]
  },
  {
   "cell_type": "code",
   "execution_count": 10,
   "id": "914a0743-0b43-40f0-bff7-18329fc9426e",
   "metadata": {},
   "outputs": [
    {
     "data": {
      "text/plain": [
       "array([[-1.46169465, -0.45767803, -0.89833872, -0.97676557,  1.98149332]])"
      ]
     },
     "execution_count": 10,
     "metadata": {},
     "output_type": "execute_result"
    }
   ],
   "source": [
    "import warnings\n",
    "warnings.filterwarnings('ignore')\n",
    "preinput = SC.transform([[19,27.900,0,0,1]])\n",
    "preinput"
   ]
  },
  {
   "cell_type": "code",
   "execution_count": 12,
   "id": "6cfe5848-8bd7-45a4-abfa-b0481c47ca49",
   "metadata": {},
   "outputs": [
    {
     "data": {
      "text/plain": [
       "1.3323494677954926"
      ]
     },
     "execution_count": 12,
     "metadata": {},
     "output_type": "execute_result"
    }
   ],
   "source": [
    "import pickle\n",
    "load_model = pickle.load(open(\"SVM_final_model.sav\",'rb'))\n",
    "result = load_model.predict(preinput)\n",
    "result[0]"
   ]
  },
  {
   "cell_type": "code",
   "execution_count": 16,
   "id": "d1bbdeaa-e92b-4d36-973d-1106905db492",
   "metadata": {},
   "outputs": [
    {
     "data": {
      "text/plain": [
       "29052.917463710313"
      ]
     },
     "execution_count": 16,
     "metadata": {},
     "output_type": "execute_result"
    }
   ],
   "source": [
    "preoutput = SCY.inverse_transform([result])[0][0]\n",
    "preoutput"
   ]
  }
 ],
 "metadata": {
  "kernelspec": {
   "display_name": "Python 3 (ipykernel)",
   "language": "python",
   "name": "python3"
  },
  "language_info": {
   "codemirror_mode": {
    "name": "ipython",
    "version": 3
   },
   "file_extension": ".py",
   "mimetype": "text/x-python",
   "name": "python",
   "nbconvert_exporter": "python",
   "pygments_lexer": "ipython3",
   "version": "3.11.4"
  }
 },
 "nbformat": 4,
 "nbformat_minor": 5
}
